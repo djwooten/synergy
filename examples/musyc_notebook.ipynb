{
 "cells": [
  {
   "cell_type": "code",
   "execution_count": 3,
   "metadata": {
    "ExecuteTime": {
     "end_time": "2020-10-19T13:40:30.172326Z",
     "start_time": "2020-10-19T13:40:22.265685Z"
    }
   },
   "outputs": [],
   "source": [
    "from synergy.combination import MuSyC\n",
    "from synergy.utils.dose_tools import grid"
   ]
  },
  {
   "cell_type": "code",
   "execution_count": 5,
   "metadata": {
    "ExecuteTime": {
     "end_time": "2020-10-19T13:42:05.316095Z",
     "start_time": "2020-10-19T13:42:05.301902Z"
    }
   },
   "outputs": [],
   "source": [
    "E0, E1, E2, E3 = 1, 0.7, 0.4, 0.\n",
    "h1, h2 = 2.3, 0.8\n",
    "C1, C2 = 1e-2, 1e-1\n",
    "alpha12, alpha21 = 3.2, 1.1\n",
    "gamma12, gamma21 = 2.5, 0.8\n",
    "\n",
    "truemodel = MuSyC(E0=E0, E1=E1, E2=E2, E3=E3, h1=h1, h2=h2, C1=C1, C2=C2, alpha12=oalpha12, \\\n",
    "              alpha21=oalpha21, gamma12=gamma12, gamma21=gamma21)"
   ]
  },
  {
   "cell_type": "code",
   "execution_count": 6,
   "metadata": {
    "ExecuteTime": {
     "end_time": "2020-10-19T13:42:07.046616Z",
     "start_time": "2020-10-19T13:42:07.041329Z"
    }
   },
   "outputs": [
    {
     "name": "stdout",
     "output_type": "stream",
     "text": [
      "MuSyC(E0=1.00, E1=0.70, E2=0.40, E3=0.00, h1=2.30, h2=0.80, C1=1.00e-02, C2=1.00e-01, alpha12=3.20, alpha21=1.10, beta=0.67, gamma12=2.50, gamma21=0.80)\n"
     ]
    }
   ],
   "source": [
    "print(truemodel)"
   ]
  },
  {
   "cell_type": "code",
   "execution_count": 7,
   "metadata": {
    "ExecuteTime": {
     "end_time": "2020-10-19T13:42:09.282956Z",
     "start_time": "2020-10-19T13:42:09.277610Z"
    }
   },
   "outputs": [
    {
     "name": "stdout",
     "output_type": "stream",
     "text": [
      "0.43485173468873367\n"
     ]
    }
   ],
   "source": [
    "print(truemodel.E(C1, C2))"
   ]
  },
  {
   "cell_type": "code",
   "execution_count": 8,
   "metadata": {
    "ExecuteTime": {
     "end_time": "2020-10-19T13:42:15.776780Z",
     "start_time": "2020-10-19T13:42:15.764399Z"
    }
   },
   "outputs": [
    {
     "name": "stdout",
     "output_type": "stream",
     "text": [
      "(64,) (64,)\n"
     ]
    }
   ],
   "source": [
    "d1, d2 = grid(C1/1e2, C1*1e2, C2/1e2, C2*1e2, 8, 8)\n",
    "print(d1.shape, d2.shape)"
   ]
  },
  {
   "cell_type": "code",
   "execution_count": 9,
   "metadata": {
    "ExecuteTime": {
     "end_time": "2020-10-19T13:42:17.000545Z",
     "start_time": "2020-10-19T13:42:16.995163Z"
    }
   },
   "outputs": [
    {
     "name": "stdout",
     "output_type": "stream",
     "text": [
      "(64,)\n"
     ]
    }
   ],
   "source": [
    "E = truemodel.E(d1, d2)\n",
    "print(E.shape)"
   ]
  },
  {
   "cell_type": "code",
   "execution_count": 10,
   "metadata": {
    "ExecuteTime": {
     "end_time": "2020-10-19T13:42:22.604004Z",
     "start_time": "2020-10-19T13:42:22.598261Z"
    }
   },
   "outputs": [
    {
     "name": "stdout",
     "output_type": "stream",
     "text": [
      "(64,)\n"
     ]
    }
   ],
   "source": [
    "import numpy as np\n",
    "\n",
    "E_noisy = E * (1+0.1*(2*np.random.rand(len(E))-1))\n",
    "print(E_noisy.shape)"
   ]
  },
  {
   "cell_type": "code",
   "execution_count": 11,
   "metadata": {
    "ExecuteTime": {
     "end_time": "2020-10-19T13:42:42.234668Z",
     "start_time": "2020-10-19T13:42:27.011690Z"
    }
   },
   "outputs": [
    {
     "name": "stdout",
     "output_type": "stream",
     "text": [
      "MuSyC(E0=0.99, E1=0.69, E2=0.40, E3=0.00, h1=2.15, h2=0.81, C1=8.95e-03, C2=1.13e-01, alpha12=3.48, alpha21=0.99, beta=0.68, gamma12=2.64, gamma21=0.84)\n"
     ]
    }
   ],
   "source": [
    "model = MuSyC()\n",
    "model.fit(d1, d2, E_noisy, bootstrap_iterations=100)\n",
    "print(model)"
   ]
  },
  {
   "cell_type": "code",
   "execution_count": 12,
   "metadata": {
    "ExecuteTime": {
     "end_time": "2020-10-19T13:42:45.125192Z",
     "start_time": "2020-10-19T13:42:45.119557Z"
    }
   },
   "outputs": [
    {
     "name": "stdout",
     "output_type": "stream",
     "text": [
      "[[ 9.54508444e-01  1.02889420e+00]\n",
      " [ 6.54646673e-01  7.16017086e-01]\n",
      " [ 3.53199392e-01  4.40931340e-01]\n",
      " [-2.95512935e-02  2.45761452e-02]\n",
      " [ 1.63479915e+00  3.03712531e+02]\n",
      " [ 6.14416152e-01  1.10347737e+00]\n",
      " [ 6.50743725e-03  6.16034069e-01]\n",
      " [ 8.52139479e-02  1.68634243e-01]\n",
      " [ 2.53611455e+00  5.36699546e+00]\n",
      " [ 6.58915075e-01  6.49504405e+01]\n",
      " [ 1.72937276e+00  3.60822059e+00]\n",
      " [ 1.79304906e-01  1.03377093e+00]]\n"
     ]
    }
   ],
   "source": [
    "print(model.get_parameter_range().T)"
   ]
  },
  {
   "cell_type": "code",
   "execution_count": 17,
   "metadata": {
    "ExecuteTime": {
     "end_time": "2020-10-19T13:43:46.898498Z",
     "start_time": "2020-10-19T13:43:46.893645Z"
    }
   },
   "outputs": [
    {
     "name": "stdout",
     "output_type": "stream",
     "text": [
      "beta\t0.67\t(>0) synergistic\n",
      "alpha12\t3.20\t(>1) synergistic\n",
      "alpha21\t1.10\t(>1) synergistic\n",
      "gamma12\t2.50\t(>1) synergistic\n",
      "gamma21\t0.80\t(<1) antagonistic\n"
     ]
    }
   ],
   "source": [
    "print(truemodel.summary())"
   ]
  },
  {
   "cell_type": "code",
   "execution_count": 19,
   "metadata": {
    "ExecuteTime": {
     "end_time": "2020-10-19T13:44:52.459834Z",
     "start_time": "2020-10-19T13:44:51.774149Z"
    }
   },
   "outputs": [
    {
     "data": {
      "image/png": "[encoded data removed]",
      "text/plain": [
       "<Figure size 864x432 with 6 Axes>"
      ]
     },
     "metadata": {
      "needs_background": "light"
     },
     "output_type": "display_data"
    }
   ],
   "source": [
    "from matplotlib import pyplot as plt\n",
    "from synergy.utils import plots\n",
    "\n",
    "fig = plt.figure(figsize=(12,6))\n",
    "\n",
    "ax = fig.add_subplot(131)\n",
    "truemodel.plot_heatmap(d1, d2, xlabel=\"Drug1\", ylabel=\"Drug2\", cmap=\"viridis\",title=\"True model\", ax=ax, vmin=0, vmax=1)\n",
    "\n",
    "ax = fig.add_subplot(132)\n",
    "plots.plot_heatmap(d1, d2, E_noisy, ax=ax, title=\"Noisy Data\", cmap=\"viridis\", xlabel=\"Drug1\", ylabel=\"Drug2\", vmin=0, vmax=1)\n",
    "\n",
    "ax = fig.add_subplot(133)\n",
    "model.plot_heatmap(d1, d2, xlabel=\"Drug1\", ylabel=\"Drug2\", cmap=\"viridis\",title=\"Fit model\", ax=ax, vmin=0, vmax=1)\n",
    "\n",
    "plt.tight_layout()"
   ]
  }
 ],
 "metadata": {
  "kernelspec": {
   "display_name": "Python 3",
   "language": "python",
   "name": "python3"
  },
  "language_info": {
   "codemirror_mode": {
    "name": "ipython",
    "version": 3
   },
   "file_extension": ".py",
   "mimetype": "text/x-python",
   "name": "python",
   "nbconvert_exporter": "python",
   "pygments_lexer": "ipython3",
   "version": "3.7.1"
  },
  "toc": {
   "base_numbering": 1,
   "nav_menu": {},
   "number_sections": true,
   "sideBar": true,
   "skip_h1_title": false,
   "title_cell": "Table of Contents",
   "title_sidebar": "Contents",
   "toc_cell": false,
   "toc_position": {},
   "toc_section_display": true,
   "toc_window_display": false
  }
 },
 "nbformat": 4,
 "nbformat_minor": 4
}
