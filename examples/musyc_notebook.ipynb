{
 "cells": [
  {
   "cell_type": "code",
   "execution_count": 2,
   "metadata": {
    "ExecuteTime": {
     "end_time": "2021-06-09T13:13:14.707451Z",
     "start_time": "2021-06-09T13:13:14.126624Z"
    }
   },
   "outputs": [
    {
     "data": {
      "text/plain": [
       "'0.4.7'"
      ]
     },
     "execution_count": 2,
     "metadata": {},
     "output_type": "execute_result"
    }
   ],
   "source": [
    "import synergy\n",
    "from synergy.combination import MuSyC\n",
    "from synergy.utils.dose_tools import grid\n",
    "synergy.__version__"
   ]
  },
  {
   "cell_type": "code",
   "execution_count": 3,
   "metadata": {
    "ExecuteTime": {
     "end_time": "2021-06-09T13:13:18.073121Z",
     "start_time": "2021-06-09T13:13:18.067210Z"
    }
   },
   "outputs": [],
   "source": [
    "E0, E1, E2, E3 = 1, 0.7, 0.4, 0.\n",
    "h1, h2 = 2.3, 0.8\n",
    "C1, C2 = 1e-2, 1e-1\n",
    "alpha12, alpha21 = 3.2, 1.1\n",
    "gamma12, gamma21 = 2.5, 0.8\n",
    "\n",
    "truemodel = MuSyC(E0=E0, E1=E1, E2=E2, E3=E3, h1=h1, h2=h2, C1=C1, C2=C2, alpha12=alpha12, \\\n",
    "              alpha21=alpha21, gamma12=gamma12, gamma21=gamma21)"
   ]
  },
  {
   "cell_type": "code",
   "execution_count": 4,
   "metadata": {
    "ExecuteTime": {
     "end_time": "2021-06-09T13:13:19.298477Z",
     "start_time": "2021-06-09T13:13:19.295791Z"
    }
   },
   "outputs": [
    {
     "name": "stdout",
     "output_type": "stream",
     "text": [
      "MuSyC(E0=1.00, E1=0.70, E2=0.40, E3=0.00, h1=2.30, h2=0.80, C1=1.00e-02, C2=1.00e-01, alpha12=3.20, alpha21=1.10, beta=0.67, gamma12=2.50, gamma21=0.80)\n"
     ]
    }
   ],
   "source": [
    "print(truemodel)"
   ]
  },
  {
   "cell_type": "code",
   "execution_count": 5,
   "metadata": {
    "ExecuteTime": {
     "end_time": "2021-06-09T13:13:20.845141Z",
     "start_time": "2021-06-09T13:13:20.838146Z"
    }
   },
   "outputs": [
    {
     "name": "stdout",
     "output_type": "stream",
     "text": [
      "0.33483787026364\n"
     ]
    }
   ],
   "source": [
    "print(truemodel.E(C1, C2))"
   ]
  },
  {
   "cell_type": "code",
   "execution_count": 6,
   "metadata": {
    "ExecuteTime": {
     "end_time": "2021-06-09T13:13:22.108911Z",
     "start_time": "2021-06-09T13:13:22.102528Z"
    }
   },
   "outputs": [
    {
     "name": "stdout",
     "output_type": "stream",
     "text": [
      "(64,) (64,)\n"
     ]
    }
   ],
   "source": [
    "d1, d2 = grid(C1/1e2, C1*1e2, C2/1e2, C2*1e2, 8, 8)\n",
    "print(d1.shape, d2.shape)"
   ]
  },
  {
   "cell_type": "code",
   "execution_count": 7,
   "metadata": {
    "ExecuteTime": {
     "end_time": "2021-06-09T13:13:23.096120Z",
     "start_time": "2021-06-09T13:13:23.092522Z"
    }
   },
   "outputs": [
    {
     "name": "stdout",
     "output_type": "stream",
     "text": [
      "(64,)\n"
     ]
    }
   ],
   "source": [
    "E = truemodel.E(d1, d2)\n",
    "print(E.shape)"
   ]
  },
  {
   "cell_type": "code",
   "execution_count": 8,
   "metadata": {
    "ExecuteTime": {
     "end_time": "2021-06-09T13:13:23.976008Z",
     "start_time": "2021-06-09T13:13:23.973189Z"
    }
   },
   "outputs": [
    {
     "name": "stdout",
     "output_type": "stream",
     "text": [
      "(64,)\n"
     ]
    }
   ],
   "source": [
    "import numpy as np\n",
    "\n",
    "E_noisy = E * (1+0.1*(2*np.random.rand(len(E))-1))\n",
    "print(E_noisy.shape)"
   ]
  },
  {
   "cell_type": "code",
   "execution_count": 9,
   "metadata": {
    "ExecuteTime": {
     "end_time": "2021-06-09T13:13:36.947289Z",
     "start_time": "2021-06-09T13:13:27.344498Z"
    }
   },
   "outputs": [
    {
     "name": "stdout",
     "output_type": "stream",
     "text": [
      "MuSyC(E0=1.00, E1=0.70, E2=0.39, E3=0.00, h1=1.87, h2=0.80, C1=1.12e-02, C2=1.13e-01, alpha12=3.82, alpha21=1.30, beta=0.64, gamma12=2.30, gamma21=1.01)\n"
     ]
    }
   ],
   "source": [
    "model = MuSyC()\n",
    "model.fit(d1, d2, E_noisy, bootstrap_iterations=100)\n",
    "print(model)"
   ]
  },
  {
   "cell_type": "code",
   "execution_count": 10,
   "metadata": {
    "ExecuteTime": {
     "end_time": "2021-06-09T13:15:29.905758Z",
     "start_time": "2021-06-09T13:15:29.902850Z"
    }
   },
   "outputs": [
    {
     "name": "stdout",
     "output_type": "stream",
     "text": [
      "[[ 0.97255536  1.04523887]\n",
      " [ 0.66643111  0.73633281]\n",
      " [ 0.35128902  0.4370486 ]\n",
      " [-0.01786046  0.02112517]\n",
      " [ 1.17228201  4.02814889]\n",
      " [ 0.6418212   1.0345023 ]\n",
      " [ 0.00800859  0.01632203]\n",
      " [ 0.08481973  0.16039952]\n",
      " [ 2.73195785  5.53049814]\n",
      " [ 0.74534016  2.00268776]\n",
      " [ 1.74313906  3.02387489]\n",
      " [ 0.40888738  1.96420184]]\n"
     ]
    }
   ],
   "source": [
    "print(model.get_parameter_range().T)"
   ]
  },
  {
   "cell_type": "code",
   "execution_count": 11,
   "metadata": {
    "ExecuteTime": {
     "end_time": "2021-06-09T13:15:31.425684Z",
     "start_time": "2021-06-09T13:15:31.423125Z"
    }
   },
   "outputs": [
    {
     "name": "stdout",
     "output_type": "stream",
     "text": [
      "beta\t0.67\t(>0) synergistic\n",
      "alpha12\t3.20\t(>1) synergistic\n",
      "alpha21\t1.10\t(>1) synergistic\n",
      "gamma12\t2.50\t(>1) synergistic\n",
      "gamma21\t0.80\t(<1) antagonistic\n"
     ]
    }
   ],
   "source": [
    "print(truemodel.summary())"
   ]
  },
  {
   "cell_type": "code",
   "execution_count": 12,
   "metadata": {
    "ExecuteTime": {
     "end_time": "2021-06-09T13:15:33.758761Z",
     "start_time": "2021-06-09T13:15:32.870741Z"
    }
   },
   "outputs": [
    {
     "data": {
      "image/png": "[encoded data removed]",
      "text/plain": [
       "<Figure size 864x432 with 6 Axes>"
      ]
     },
     "metadata": {
      "needs_background": "light"
     },
     "output_type": "display_data"
    }
   ],
   "source": [
    "from matplotlib import pyplot as plt\n",
    "from synergy.utils import plots\n",
    "\n",
    "fig = plt.figure(figsize=(12,6))\n",
    "\n",
    "ax = fig.add_subplot(131)\n",
    "truemodel.plot_heatmap(d1, d2, xlabel=\"Drug1\", ylabel=\"Drug2\", cmap=\"viridis\",title=\"True model\", ax=ax, vmin=0, vmax=1)\n",
    "\n",
    "ax = fig.add_subplot(132)\n",
    "plots.plot_heatmap(d1, d2, E_noisy, ax=ax, title=\"Noisy Data\", cmap=\"viridis\", xlabel=\"Drug1\", ylabel=\"Drug2\", vmin=0, vmax=1)\n",
    "\n",
    "ax = fig.add_subplot(133)\n",
    "model.plot_heatmap(d1, d2, xlabel=\"Drug1\", ylabel=\"Drug2\", cmap=\"viridis\",title=\"Fit model\", ax=ax, vmin=0, vmax=1)\n",
    "\n",
    "plt.tight_layout()"
   ]
  }
 ],
 "metadata": {
  "kernelspec": {
   "display_name": "Python 3",
   "language": "python",
   "name": "python3"
  },
  "language_info": {
   "codemirror_mode": {
    "name": "ipython",
    "version": 3
   },
   "file_extension": ".py",
   "mimetype": "text/x-python",
   "name": "python",
   "nbconvert_exporter": "python",
   "pygments_lexer": "ipython3",
   "version": "3.7.1"
  },
  "toc": {
   "base_numbering": 1,
   "nav_menu": {},
   "number_sections": true,
   "sideBar": true,
   "skip_h1_title": false,
   "title_cell": "Table of Contents",
   "title_sidebar": "Contents",
   "toc_cell": false,
   "toc_position": {},
   "toc_section_display": true,
   "toc_window_display": false
  }
 },
 "nbformat": 4,
 "nbformat_minor": 4
}
