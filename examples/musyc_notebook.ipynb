{
 "cells": [
  {
   "cell_type": "code",
   "execution_count": 1,
   "metadata": {},
   "outputs": [],
   "source": [
    "from synergy.combination import MuSyC\n",
    "from synergy.utils.dose_tools import grid"
   ]
  },
  {
   "cell_type": "code",
   "execution_count": 2,
   "metadata": {},
   "outputs": [],
   "source": [
    "E0, E1, E2, E3 = 1, 0.7, 0.4, 0.\n",
    "h1, h2 = 2.3, 0.8\n",
    "C1, C2 = 1e-2, 1e-1\n",
    "oalpha12, oalpha21 = 3.2, 1.1\n",
    "gamma12, gamma21 = 2.5, 0.8\n",
    "\n",
    "truemodel = MuSyC(E0=E0, E1=E1, E2=E2, E3=E3, h1=h1, h2=h2, C1=C1, C2=C2, oalpha12=oalpha12, \\\n",
    "              oalpha21=oalpha21, gamma12=gamma12, gamma21=gamma21)"
   ]
  },
  {
   "cell_type": "code",
   "execution_count": 3,
   "metadata": {},
   "outputs": [
    {
     "name": "stdout",
     "output_type": "stream",
     "text": [
      "MuSyC(E0=1.00, E1=0.70, E2=0.40, E3=0.00, h1=2.30, h2=0.80, C1=1.00e-02, C2=1.00e-01, oalpha12=3.20, oalpha21=1.10, beta=0.67, gamma12=2.50, gamma21=0.80)\n"
     ]
    }
   ],
   "source": [
    "print(truemodel)"
   ]
  },
  {
   "cell_type": "code",
   "execution_count": 4,
   "metadata": {},
   "outputs": [
    {
     "name": "stdout",
     "output_type": "stream",
     "text": [
      "0.3665489890285983\n"
     ]
    }
   ],
   "source": [
    "print(truemodel.E(C1, C2))"
   ]
  },
  {
   "cell_type": "code",
   "execution_count": 5,
   "metadata": {},
   "outputs": [
    {
     "name": "stdout",
     "output_type": "stream",
     "text": [
      "(64,) (64,)\n"
     ]
    }
   ],
   "source": [
    "d1, d2 = grid(C1/1e2, C1*1e2, C2/1e2, C2*1e2, 8, 8)\n",
    "print(d1.shape, d2.shape)"
   ]
  },
  {
   "cell_type": "code",
   "execution_count": 7,
   "metadata": {},
   "outputs": [
    {
     "name": "stdout",
     "output_type": "stream",
     "text": [
      "(64,)\n"
     ]
    }
   ],
   "source": [
    "E = truemodel.E(d1, d2)\n",
    "print(E.shape)"
   ]
  },
  {
   "cell_type": "code",
   "execution_count": 38,
   "metadata": {},
   "outputs": [
    {
     "name": "stdout",
     "output_type": "stream",
     "text": [
      "(64,)\n"
     ]
    }
   ],
   "source": [
    "import numpy as np\n",
    "\n",
    "E_noisy = E * (1+0.1*(2*np.random.rand(len(E))-1))\n",
    "print(E_noisy.shape)"
   ]
  },
  {
   "cell_type": "code",
   "execution_count": 39,
   "metadata": {},
   "outputs": [
    {
     "name": "stdout",
     "output_type": "stream",
     "text": [
      "MuSyC(E0=0.93, E1=0.68, E2=0.42, E3=0.00, h1=1.86, h2=1.12, C1=9.64e-03, C2=1.24e-01, oalpha12=3.75, oalpha21=1.08, beta=0.81, gamma12=2.01, gamma21=0.98)\n"
     ]
    }
   ],
   "source": [
    "model = MuSyC()\n",
    "model.fit(d1, d2, E_noisy, bootstrap_iterations=100)\n",
    "print(model)"
   ]
  },
  {
   "cell_type": "code",
   "execution_count": 40,
   "metadata": {},
   "outputs": [
    {
     "name": "stdout",
     "output_type": "stream",
     "text": [
      "[[ 0.91223345  0.96329156]\n",
      " [ 0.64643766  0.70749396]\n",
      " [ 0.39022822  0.44990642]\n",
      " [-0.02507603  0.02363363]\n",
      " [ 1.26005438  2.73713318]\n",
      " [ 0.93018994  1.43865508]\n",
      " [ 0.00760803  0.01384544]\n",
      " [ 0.10018859  0.15263104]\n",
      " [ 2.85988609  4.6230902 ]\n",
      " [ 0.73239517  1.79969918]\n",
      " [ 0.69827786  0.95770258]\n",
      " [ 1.44083572  2.76863031]\n",
      " [ 0.56548907  1.83905139]]\n"
     ]
    }
   ],
   "source": [
    "print(model.get_parameter_range().T)"
   ]
  },
  {
   "cell_type": "code",
   "execution_count": 53,
   "metadata": {},
   "outputs": [
    {
     "data": {
      "image/png": "[encoded data removed]",
      "text/plain": [
       "<Figure size 864x432 with 6 Axes>"
      ]
     },
     "metadata": {
      "needs_background": "light"
     },
     "output_type": "display_data"
    }
   ],
   "source": [
    "from matplotlib import pyplot as plt\n",
    "from synergy.utils import plots\n",
    "\n",
    "fig = plt.figure(figsize=(12,6))\n",
    "\n",
    "ax = fig.add_subplot(131)\n",
    "truemodel.plot_colormap(d1, d2, xlabel=\"Drug1\", ylabel=\"Drug2\", title=\"True model\", ax=ax, vmin=0, vmax=1)\n",
    "\n",
    "ax = fig.add_subplot(132)\n",
    "plots.plot_colormap(d1, d2, E_noisy, ax=ax, title=\"Noisy Data\", cmap=\"viridis\", xlabel=\"Drug1\", ylabel=\"Drug2\", vmin=0, vmax=1)\n",
    "\n",
    "ax = fig.add_subplot(133)\n",
    "model.plot_colormap(d1, d2, xlabel=\"Drug1\", ylabel=\"Drug2\", title=\"Fit model\", ax=ax, vmin=0, vmax=1)\n",
    "\n",
    "plt.tight_layout()"
   ]
  },
  {
   "cell_type": "code",
   "execution_count": null,
   "metadata": {},
   "outputs": [],
   "source": []
  }
 ],
 "metadata": {
  "kernelspec": {
   "display_name": "Python 3",
   "language": "python",
   "name": "python3"
  },
  "language_info": {
   "codemirror_mode": {
    "name": "ipython",
    "version": 3
   },
   "file_extension": ".py",
   "mimetype": "text/x-python",
   "name": "python",
   "nbconvert_exporter": "python",
   "pygments_lexer": "ipython3",
   "version": "3.8.2"
  }
 },
 "nbformat": 4,
 "nbformat_minor": 4
}
