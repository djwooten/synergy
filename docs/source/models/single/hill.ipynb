{
 "cells": [
  {
   "cell_type": "markdown",
   "id": "6b585820-c697-4b21-98e8-5b5bc57d6cce",
   "metadata": {},
   "source": [
    "# Hill\n",
    "\n",
    "## Description\n",
    "\n",
    "The Hill equation is a parametric dose-response model derived from chemical kinetics. It has a sigmoidal shape when plotting against log-scaled doses. It contains the following parameters\n",
    "\n",
    "| Parameter | Description |\n",
    "| --------- | ----------: |\n",
    "| `E0`      | Effect when $d=0$ |\n",
    "| `Emax`    | Asymptotic effect as $d \\rightarrow \\infty$ |\n",
    "| `C`       | Dose such that $E(d=C) = \\frac{E_0 + E_\\text{max}}{2}$ |\n",
    "| `h`       | \"Hill coefficient\" related to the slope near $d=C$ |\n",
    "\n",
    "There are two public subclasses of `synergy.single.hill.Hill`\n",
    "\n",
    "- `Hill_2P`\n",
    "  - This model does not fit `E0` or `Emax`, but rather expects them to be supplied when the model is instantiated.\n",
    "- `Hill_CI`\n",
    "  - This model is a further subclass of `Hill_2P` with `E0=1.0` and `Emax=0.0`. Additionally, it fits the dose-response curve using the linearization method of the median effect equation, rather than via `scipy.optimize.curve_fit()`.\n",
    "\n",
    "## Assumptions\n",
    "\n",
    "- The data should follow a sigmoidal shape\n",
    "\n",
    "If the assumptions are not met, you may consider using a different single-drug model, such as `LogLinear`."
   ]
  },
  {
   "cell_type": "markdown",
   "id": "442219b7-8cb7-4020-b92c-8918589b73d5",
   "metadata": {},
   "source": [
    "## Hill Example\n",
    "\n",
    "### Fit the model to data\n",
    "\n",
    "Dose response models work with 1D arrays of E and drug dose.\n",
    "\n",
    "#### Specifying parameter bounds\n",
    "\n",
    "When reasonable bounds on parameters are known, these bounds can be passed into the model. If you struggle to get good fits, constraining parameters into reasonable ranges can often help.\n",
    "\n",
    "There are a few ways to do this\n",
    "\n",
    "- Pass bounds for specific parameters: `Hill(E0_bounds=(0.9, 1), h_bounds=(0.5, 2), ...`.\n",
    "- Pass \"generic\" bounds for `E`: `Hill(E_bounds=(0, 1), h_bounds=(1e-3, 1e3)`.\n",
    "  - With generic bounds, both `E0` and `Emax` will be constrained by the given bounds,\n",
    "- Mix the above: `Hill(E_bounds=(0, 1), E0_bounds=(0.9, 1), ...)`.\n",
    "  - Specific bounds will always take priority of generic bounds, so this would use `(0.9, 1)` for `E0`, and `(0, 1)` for `Emax`.\n",
    "\n",
    "By default, `Hill` uses bounds of `(0, inf)` for `h` and `C`, and `(-inf, inf)` for `E` parameters.\n",
    "\n",
    "For this synthetic dataset, the data was generated such that E ranges from 0 to 1 (+/- noise, but we can assume all E params should be in that range). So we can pass `E_bounds=(0, 1)` when we instatiate the model."
   ]
  },
  {
   "cell_type": "code",
   "execution_count": 1,
   "id": "cc0a68ff-0902-48be-a126-e35107f6f2ce",
   "metadata": {},
   "outputs": [],
   "source": [
    "import numpy as np\n",
    "\n",
    "from synergy import datasets\n",
    "from synergy.single import Hill\n",
    "\n",
    "np.random.seed(1234)  # deterministic confidence intervals\n",
    "\n",
    "d, E = datasets.load_hill_example()\n",
    "model = Hill(E_bounds=(-0.1, 1.1))\n",
    "model.fit(d, E, bootstrap_iterations=100)  # bootstrap_iterations is used to estimate confidence intervals"
   ]
  },
  {
   "cell_type": "markdown",
   "id": "65e32e96-3f64-41e6-9ecd-630291bd87c2",
   "metadata": {},
   "source": [
    "### Plot the model fit"
   ]
  },
  {
   "cell_type": "code",
   "execution_count": 2,
   "id": "16d74768-c974-4be5-b01b-62e9d24b0824",
   "metadata": {},
   "outputs": [
    {
     "data": {
      "image/png": "[encoded data removed]",
      "text/plain": [
       "<Figure size 500x400 with 1 Axes>"
      ]
     },
     "metadata": {},
     "output_type": "display_data"
    }
   ],
   "source": [
    "from matplotlib import pyplot as plt\n",
    "\n",
    "from synergy.utils import remove_zeros\n",
    "\n",
    "fig = plt.figure(figsize=(5, 4))\n",
    "ax = fig.add_subplot(1, 1, 1)\n",
    "ax.scatter(remove_zeros(d, num_dilutions=2), E)\n",
    "\n",
    "# This is used as the x-axis values for model.E(d), to give a smooth curve\n",
    "d_smooth = np.logspace(-2, 2)\n",
    "ax.plot(d_smooth, model.E(d_smooth))\n",
    "ax.set_xscale(\"log\")\n",
    "ax.set_xlabel(\"Dose\")\n",
    "ax.set_ylabel(\"Effect\")\n",
    "ax.set_title(\"Hill.E(d)\")\n",
    "plt.show()"
   ]
  },
  {
   "cell_type": "markdown",
   "id": "efcadb81-0bae-4f0d-a533-7320f7899418",
   "metadata": {},
   "source": [
    "### Check model fit quality\n",
    "\n",
    "All parametric models automatically calculate quality-of-fit scores."
   ]
  },
  {
   "cell_type": "code",
   "execution_count": 3,
   "id": "dbb2ca3c-0a19-49d0-a526-6c184efd6024",
   "metadata": {},
   "outputs": [
    {
     "name": "stdout",
     "output_type": "stream",
     "text": [
      "Is fit: True\n",
      "Fit converged: True\n",
      "Is fully specified: True\n",
      "\n",
      "Fit Quality Stats\n",
      "  Sum of squares residuals: 0.008834185033397293\n",
      "  R^2: 0.996153655058854\n",
      "  AIC: -124.07404413296418\n",
      "  BIC: -122.69910842040643\n"
     ]
    }
   ],
   "source": [
    "print(f\"Is fit: {model.is_fit}\")  # True if model.fit() was run\n",
    "print(f\"Fit converged: {model.is_converged}\")  # True if the model fit successfully converged\n",
    "print(f\"Is fully specified: {model.is_specified}\")  # True if all parameters are set (required to call model.E())\n",
    "print()\n",
    "print(\"Fit Quality Stats\")\n",
    "print(f\"  Sum of squares residuals: {model.sum_of_squares_residuals}\")\n",
    "print(f\"  R^2: {model.r_squared}\")\n",
    "print(f\"  AIC: {model.aic}\")\n",
    "print(f\"  BIC: {model.bic}\")"
   ]
  },
  {
   "cell_type": "markdown",
   "id": "ed9b268c-3fdc-458c-ab31-19b3af43cf5e",
   "metadata": {},
   "source": [
    "### Get all model parameters and confidence intervals"
   ]
  },
  {
   "cell_type": "code",
   "execution_count": 4,
   "id": "6f49a07d-1e40-458e-8671-79f7ba01ab5d",
   "metadata": {},
   "outputs": [
    {
     "name": "stdout",
     "output_type": "stream",
     "text": [
      "Parameters\n",
      "{'E0': 0.9486656324539504, 'Emax': 0.02687061853180388, 'h': 1.1734807393913014, 'C': 1.034970209440454}\n",
      "\n",
      "Confidence Interval (95%)\n",
      "{'E0': array([0.92956039, 0.97436566]), 'Emax': array([-0.00384545,  0.06494899]), 'h': array([1.03013288, 1.35836766]), 'C': array([0.92052359, 1.16038919])}\n",
      "\n",
      "Confidence Interval (50%)\n",
      "{'E0': array([0.94089162, 0.95468789]), 'Emax': array([0.0181467 , 0.04309284]), 'h': array([1.12620809, 1.2573561 ]), 'C': array([0.98274748, 1.07777016])}\n",
      "\n"
     ]
    }
   ],
   "source": [
    "print(\"Parameters\")\n",
    "print(model.get_parameters())\n",
    "print()\n",
    "\n",
    "print(\"Confidence Interval (95%)\")\n",
    "print(model.get_confidence_intervals())\n",
    "print()\n",
    "\n",
    "print(\"Confidence Interval (50%)\")\n",
    "print(model.get_confidence_intervals(confidence_interval=50))\n",
    "print()"
   ]
  },
  {
   "cell_type": "markdown",
   "id": "5e047f06-86cd-4a1d-af1f-de015ef24c9d",
   "metadata": {},
   "source": [
    "## Hill_2P Example"
   ]
  },
  {
   "cell_type": "code",
   "execution_count": 5,
   "id": "7613cc7a-adaf-4904-8c38-426c41857c25",
   "metadata": {},
   "outputs": [],
   "source": [
    "from synergy.single import Hill_2P\n",
    "\n",
    "np.random.seed(1234)  # deterministic confidence intervals\n",
    "\n",
    "d, E = datasets.load_hill_example()\n",
    "model_2p = Hill_2P(E0=1.0, Emax=0.0)\n",
    "model_2p.fit(d, E, bootstrap_iterations=100)"
   ]
  },
  {
   "cell_type": "markdown",
   "id": "af983e51-0d63-4b99-b0fa-b93f9fca61fa",
   "metadata": {},
   "source": [
    "### Plot and analyze Hill_2P fit"
   ]
  },
  {
   "cell_type": "code",
   "execution_count": 6,
   "id": "c5b7f1cd-de59-4cdc-9d75-8e6d7c98c5f0",
   "metadata": {},
   "outputs": [
    {
     "data": {
      "image/png": "[encoded data removed]",
      "text/plain": [
       "<Figure size 500x400 with 1 Axes>"
      ]
     },
     "metadata": {},
     "output_type": "display_data"
    },
    {
     "name": "stdout",
     "output_type": "stream",
     "text": [
      "\n",
      "===\n",
      "\n",
      "Model Fit Scores\n",
      "Is fit: True\n",
      "Fit converged: True\n",
      "Is fully specified: True\n",
      "\n",
      "Fit Quality Stats\n",
      "  Sum of squares residuals: 0.02024364996923748\n",
      "  R^2: 0.9911860505122833\n",
      "  AIC: -115.42514573683924\n",
      "  BIC: -113.55403046315075\n",
      "\n",
      "===\n",
      "\n",
      "Model Parameters\n",
      "Parameters\n",
      "{'h': 0.9954835060681304, 'C': 0.9678777475974989}\n",
      "\n",
      "Confidence Interval (95%)\n",
      "{'h': array([0.90821956, 1.11325105]), 'C': array([0.87306605, 1.0633984 ])}\n",
      "\n",
      "Confidence Interval (50%)\n",
      "{'h': array([0.95776381, 1.04535511]), 'C': array([0.93218408, 1.01349353])}\n",
      "\n"
     ]
    }
   ],
   "source": [
    "fig = plt.figure(figsize=(5, 4))\n",
    "ax = fig.add_subplot(1, 1, 1)\n",
    "ax.scatter(remove_zeros(d, num_dilutions=2), E)\n",
    "\n",
    "# This is used as the x-axis values for model.E(d), to give a smooth curve\n",
    "d_smooth = np.logspace(-2, 2)\n",
    "ax.plot(d_smooth, model_2p.E(d_smooth))\n",
    "ax.set_xscale(\"log\")\n",
    "ax.set_xlabel(\"Dose\")\n",
    "ax.set_ylabel(\"Effect\")\n",
    "ax.set_title(\"Hill_2P.E(d)\")\n",
    "plt.show()\n",
    "\n",
    "print(\"\\n===\\n\")\n",
    "print(\"Model Fit Scores\")\n",
    "\n",
    "print(f\"Is fit: {model_2p.is_fit}\")  # True if model.fit() was run\n",
    "print(f\"Fit converged: {model_2p.is_converged}\")  # True if the model fit successfully converged\n",
    "print(f\"Is fully specified: {model_2p.is_specified}\")  # True if all parameters are set (required to call model.E())\n",
    "print()\n",
    "print(\"Fit Quality Stats\")\n",
    "print(f\"  Sum of squares residuals: {model_2p.sum_of_squares_residuals}\")\n",
    "print(f\"  R^2: {model_2p.r_squared}\")\n",
    "print(f\"  AIC: {model_2p.aic}\")\n",
    "print(f\"  BIC: {model_2p.bic}\")\n",
    "\n",
    "print(\"\\n===\\n\")\n",
    "print(\"Model Parameters\")\n",
    "\n",
    "print(\"Parameters\")\n",
    "print(model_2p.get_parameters())\n",
    "print()\n",
    "\n",
    "print(\"Confidence Interval (95%)\")\n",
    "print(model_2p.get_confidence_intervals())\n",
    "print()\n",
    "\n",
    "print(\"Confidence Interval (50%)\")\n",
    "print(model_2p.get_confidence_intervals(confidence_interval=50))\n",
    "print()"
   ]
  },
  {
   "cell_type": "markdown",
   "id": "0f501f97-52de-4bd5-aec5-08eb4fc35e5b",
   "metadata": {},
   "source": [
    "## Hill_CI Example"
   ]
  },
  {
   "cell_type": "code",
   "execution_count": 7,
   "id": "5e993a7a-2508-4c86-82ff-a3e34571dbce",
   "metadata": {},
   "outputs": [],
   "source": [
    "from synergy.single import Hill_CI\n",
    "\n",
    "d, E = datasets.load_hill_example()\n",
    "model_ci = Hill_CI()  # parameter bounds are not yet supported for Hill_CI\n",
    "model_ci.fit(d, E)  # confidence intervals are not yet supported for Hill_CI"
   ]
  },
  {
   "cell_type": "markdown",
   "id": "c49e051a-5c9a-4f13-b5d0-4d7d4fcd50cb",
   "metadata": {},
   "source": [
    "### Plot and analyze Hill_CI fit"
   ]
  },
  {
   "cell_type": "code",
   "execution_count": 8,
   "id": "bfa17000-4858-4433-ba61-ede7db68132b",
   "metadata": {},
   "outputs": [
    {
     "data": {
      "image/png": "[encoded data removed]",
      "text/plain": [
       "<Figure size 500x400 with 1 Axes>"
      ]
     },
     "metadata": {},
     "output_type": "display_data"
    },
    {
     "name": "stdout",
     "output_type": "stream",
     "text": [
      "\n",
      "===\n",
      "\n",
      "Model Fit Scores\n",
      "Is fit: True\n",
      "Fit converged: True\n",
      "Is fully specified: True\n",
      "\n",
      "Fit Quality Stats\n",
      "  Sum of squares residuals: 0.02105340328571227\n",
      "  R^2: 0.9908334893466948\n",
      "  AIC: -114.71916664367039\n",
      "  BIC: -112.8480513699819\n",
      "\n",
      "===\n",
      "\n",
      "Model Parameters\n",
      "Parameters\n",
      "{'h': 0.9627465059253871, 'C': 0.9361750189247218}\n",
      "\n"
     ]
    }
   ],
   "source": [
    "fig = plt.figure(figsize=(5, 4))\n",
    "ax = fig.add_subplot(1, 1, 1)\n",
    "ax.scatter(remove_zeros(d, num_dilutions=2), E)\n",
    "\n",
    "# This is used as the x-axis values for model.E(d), to give a smooth curve\n",
    "d_smooth = np.logspace(-2, 2)\n",
    "ax.plot(d_smooth, model_ci.E(d_smooth))\n",
    "ax.set_xscale(\"log\")\n",
    "ax.set_xlabel(\"Dose\")\n",
    "ax.set_ylabel(\"Effect\")\n",
    "ax.set_title(\"Hill_CI.E(d)\")\n",
    "plt.show()\n",
    "\n",
    "print(\"\\n===\\n\")\n",
    "print(\"Model Fit Scores\")\n",
    "\n",
    "print(f\"Is fit: {model_ci.is_fit}\")  # True if model.fit() was run\n",
    "print(f\"Fit converged: {model_ci.is_converged}\")  # True if the model fit successfully converged\n",
    "print(f\"Is fully specified: {model_ci.is_specified}\")  # True if all parameters are set (required to call model.E())\n",
    "print()\n",
    "print(\"Fit Quality Stats\")\n",
    "print(f\"  Sum of squares residuals: {model_ci.sum_of_squares_residuals}\")\n",
    "print(f\"  R^2: {model_ci.r_squared}\")\n",
    "print(f\"  AIC: {model_ci.aic}\")\n",
    "print(f\"  BIC: {model_ci.bic}\")\n",
    "\n",
    "print(\"\\n===\\n\")\n",
    "print(\"Model Parameters\")\n",
    "\n",
    "print(\"Parameters\")\n",
    "print(model_ci.get_parameters())\n",
    "print()"
   ]
  },
  {
   "cell_type": "markdown",
   "id": "73ac8d2a-2f1b-4c83-9bf1-a8ab76219ee9",
   "metadata": {},
   "source": [
    "## References\n",
    "\n",
    "Chou, Ting‐Chao, and Paul TaLaLay. \"Generalized equations for the analysis of inhibitions of Michaelis‐Menten and higher‐order kinetic systems with two or more mutually exclusive and nonexclusive inhibitors.\" European journal of biochemistry 115.1 (1981): 207-216."
   ]
  },
  {
   "cell_type": "code",
   "execution_count": null,
   "id": "34dd48b5-67fc-4913-b94e-aed3715db542",
   "metadata": {},
   "outputs": [],
   "source": []
  }
 ],
 "metadata": {
  "kernelspec": {
   "display_name": "Python 3 (ipykernel)",
   "language": "python",
   "name": "python3"
  },
  "language_info": {
   "codemirror_mode": {
    "name": "ipython",
    "version": 3
   },
   "file_extension": ".py",
   "mimetype": "text/x-python",
   "name": "python",
   "nbconvert_exporter": "python",
   "pygments_lexer": "ipython3",
   "version": "3.9.18"
  }
 },
 "nbformat": 4,
 "nbformat_minor": 5
}
